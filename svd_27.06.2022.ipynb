{
 "cells": [
  {
   "cell_type": "code",
   "execution_count": 4,
   "id": "a3eb0268",
   "metadata": {},
   "outputs": [],
   "source": [
    "import numpy as np\n",
    "from numpy.linalg import svd"
   ]
  },
  {
   "cell_type": "code",
   "execution_count": 5,
   "id": "5ddb5395",
   "metadata": {},
   "outputs": [],
   "source": [
    "A = np.array([\n",
    "    [1,-0.8],\n",
    "    [0,1],\n",
    "    [1,0]\n",
    "])"
   ]
  },
  {
   "cell_type": "code",
   "execution_count": 6,
   "id": "27fed212",
   "metadata": {},
   "outputs": [
    {
     "name": "stdout",
     "output_type": "stream",
     "text": [
      "[[ 1.  -0.8]\n",
      " [ 0.   1. ]\n",
      " [ 1.   0. ]]\n"
     ]
    }
   ],
   "source": [
    "print(A)"
   ]
  },
  {
   "cell_type": "code",
   "execution_count": 7,
   "id": "cde977e0",
   "metadata": {},
   "outputs": [
    {
     "data": {
      "text/plain": [
       "(3, 2)"
      ]
     },
     "execution_count": 7,
     "metadata": {},
     "output_type": "execute_result"
    }
   ],
   "source": [
    "A.shape"
   ]
  },
  {
   "cell_type": "code",
   "execution_count": 8,
   "id": "2ed3297d",
   "metadata": {},
   "outputs": [],
   "source": [
    "U, S, VT = svd(A,full_matrices=True)"
   ]
  },
  {
   "cell_type": "code",
   "execution_count": 9,
   "id": "86022984",
   "metadata": {},
   "outputs": [
    {
     "name": "stdout",
     "output_type": "stream",
     "text": [
      "(3, 3) (2,) (2, 2)\n"
     ]
    }
   ],
   "source": [
    "print(U.shape,S.shape,VT.shape)"
   ]
  },
  {
   "cell_type": "code",
   "execution_count": 10,
   "id": "aab420d5",
   "metadata": {},
   "outputs": [],
   "source": [
    "U, S, VT = svd(A,full_matrices=False)"
   ]
  },
  {
   "cell_type": "code",
   "execution_count": 11,
   "id": "930c67b6",
   "metadata": {},
   "outputs": [
    {
     "name": "stdout",
     "output_type": "stream",
     "text": [
      "(3, 2) (2,) (2, 2)\n"
     ]
    }
   ],
   "source": [
    "print(U.shape,S.shape,VT.shape)"
   ]
  },
  {
   "cell_type": "code",
   "execution_count": 12,
   "id": "18e1ba27",
   "metadata": {},
   "outputs": [
    {
     "data": {
      "text/plain": [
       "array([[-7.88170109e-01,  1.87057766e-16],\n",
       "       [ 3.84473224e-01, -7.80868809e-01],\n",
       "       [-4.80591530e-01, -6.24695048e-01]])"
      ]
     },
     "execution_count": 12,
     "metadata": {},
     "output_type": "execute_result"
    }
   ],
   "source": [
    "U"
   ]
  },
  {
   "cell_type": "code",
   "execution_count": 13,
   "id": "cd0cef90",
   "metadata": {},
   "outputs": [
    {
     "data": {
      "text/plain": [
       "array([1.62480768, 1.        ])"
      ]
     },
     "execution_count": 13,
     "metadata": {},
     "output_type": "execute_result"
    }
   ],
   "source": [
    "S"
   ]
  },
  {
   "cell_type": "code",
   "execution_count": 14,
   "id": "571897bd",
   "metadata": {},
   "outputs": [
    {
     "data": {
      "text/plain": [
       "array([[-0.78086881,  0.62469505],\n",
       "       [-0.62469505, -0.78086881]])"
      ]
     },
     "execution_count": 14,
     "metadata": {},
     "output_type": "execute_result"
    }
   ],
   "source": [
    "VT"
   ]
  },
  {
   "cell_type": "code",
   "execution_count": 15,
   "id": "3bdbc24a",
   "metadata": {},
   "outputs": [
    {
     "data": {
      "text/plain": [
       "array([[-0.78086881, -0.62469505],\n",
       "       [ 0.62469505, -0.78086881]])"
      ]
     },
     "execution_count": 15,
     "metadata": {},
     "output_type": "execute_result"
    }
   ],
   "source": [
    "VT.T"
   ]
  },
  {
   "cell_type": "code",
   "execution_count": null,
   "id": "44be793f",
   "metadata": {},
   "outputs": [],
   "source": []
  }
 ],
 "metadata": {
  "kernelspec": {
   "display_name": "Python 3",
   "language": "python",
   "name": "python3"
  },
  "language_info": {
   "codemirror_mode": {
    "name": "ipython",
    "version": 3
   },
   "file_extension": ".py",
   "mimetype": "text/x-python",
   "name": "python",
   "nbconvert_exporter": "python",
   "pygments_lexer": "ipython3",
   "version": "3.8.8"
  }
 },
 "nbformat": 4,
 "nbformat_minor": 5
}
